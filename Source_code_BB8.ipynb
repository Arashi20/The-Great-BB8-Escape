{
 "cells": [
  {
   "cell_type": "code",
   "execution_count": 1,
   "id": "be5fac10-61ed-4e3b-84fa-0658b87e2aa9",
   "metadata": {},
   "outputs": [
    {
     "ename": "ModuleNotFoundError",
     "evalue": "No module named 'controller'",
     "output_type": "error",
     "traceback": [
      "\u001b[0;31m---------------------------------------------------------------------------\u001b[0m",
      "\u001b[0;31mModuleNotFoundError\u001b[0m                       Traceback (most recent call last)",
      "Input \u001b[0;32mIn [1]\u001b[0m, in \u001b[0;36m<module>\u001b[0;34m\u001b[0m\n\u001b[0;32m----> 1\u001b[0m \u001b[38;5;28;01mfrom\u001b[39;00m \u001b[38;5;21;01mcontroller\u001b[39;00m \u001b[38;5;28;01mimport\u001b[39;00m Robot\n\u001b[1;32m      2\u001b[0m \u001b[38;5;28;01mfrom\u001b[39;00m \u001b[38;5;21;01mcontroller\u001b[39;00m \u001b[38;5;28;01mimport\u001b[39;00m Accelerometer \n\u001b[1;32m      4\u001b[0m robot \u001b[38;5;241m=\u001b[39m Robot()\n",
      "\u001b[0;31mModuleNotFoundError\u001b[0m: No module named 'controller'"
     ]
    }
   ],
   "source": [
    "from controller import Robot\n",
    "from controller import Accelerometer \n",
    "\n",
    "robot = Robot()\n",
    "\n",
    "timestep = int(robot.getBasicTimeStep())\n",
    "\n",
    "# Max possible speed for the motor of the robot.\n",
    "maxSpeed = 8.72\n",
    "\n",
    "bodyAccelerometer = robot.getAccelerometer(\"body accelerometer\")\n",
    "bodyAccelerometer.enable(timestep)\n",
    "\n",
    "# Configuration of the main motor of the robot.\n",
    "pitchMotor = robot.getMotor(\"body pitch motor\")\n",
    "pitchMotor.setPosition(float('inf'))\n",
    "pitchMotor.setVelocity(0.0)\n",
    "\n",
    "# At first we go forward.\n",
    "pitchMotor.setVelocity(maxSpeed)\n",
    "forward = True\n",
    "#To initiate movement, the initial values of the lowest and highest variables have been set to -1 and 1\n",
    "while robot.step(timestep) != -1:\n",
    "    lowest_0 = -1\n",
    "    lowest_2 = -1\n",
    "    \n",
    "    highest_0 = 1\n",
    "    highest_2 = 1\n",
    "    \n",
    "    x = bodyAccelerometer.getValues()\n",
    "#If the acceleration in the x-axis direction is larger than or equal to the highest value, and smaller than or equal to the lowest value, it will move backwards.\n",
    "#Otherwise, it moves forward. \n",
    "    if x[0] >= highest_0 or x[0] <= lowest_0:\n",
    "        if forward:\n",
    "            pitchMotor.setVelocity(-maxSpeed)\n",
    "            highest_0 = x[0]\n",
    "        else:\n",
    "            pitchMotor.setVelocity(maxSpeed)\n",
    "            lowest_0 = x[0]\n",
    "#If the acceleration in the z-axis direction is larger than or equal to the highest value, and smaller than or equal to the lowest value, it will move backwards.\n",
    "#Otherwise, it moves forward.            \n",
    "    if x[2] >= highest_2 or x[2] <= lowest_2:\n",
    "        if forward:\n",
    "            pitchMotor.setVelocity(-maxSpeed)\n",
    "            highest_2 = x[2]\n",
    "        else:\n",
    "            pitchMotor.setVelocity(maxSpeed)\n",
    "            lowest_2 = x[2]\n",
    "            \n",
    "        \n"
   ]
  },
  {
   "cell_type": "code",
   "execution_count": null,
   "id": "ed321929-1741-4946-bc9d-efc2e5bf8479",
   "metadata": {},
   "outputs": [],
   "source": []
  }
 ],
 "metadata": {
  "kernelspec": {
   "display_name": "Python 3 (ipykernel)",
   "language": "python",
   "name": "python3"
  },
  "language_info": {
   "codemirror_mode": {
    "name": "ipython",
    "version": 3
   },
   "file_extension": ".py",
   "mimetype": "text/x-python",
   "name": "python",
   "nbconvert_exporter": "python",
   "pygments_lexer": "ipython3",
   "version": "3.9.7"
  }
 },
 "nbformat": 4,
 "nbformat_minor": 5
}
